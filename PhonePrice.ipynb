{
 "cells": [
  {
   "cell_type": "markdown",
   "id": "8aba679d",
   "metadata": {},
   "source": [
    "## Phone Price Classsification"
   ]
  },
  {
   "cell_type": "code",
   "execution_count": 1,
   "id": "44e6d28c",
   "metadata": {},
   "outputs": [],
   "source": [
    "from math import sqrt\n",
    "import pandas as pd\n",
    "import numpy as np\n",
    "import matplotlib.pyplot as plt\n",
    "import seaborn as sns\n",
    "import plotly.express as px\n",
    "import os\n",
    "\n",
    "\n",
    "# for the model\n",
    "from sklearn.model_selection import train_test_split\n",
    "from sklearn.ensemble import GradientBoostingClassifier\n",
    "from sklearn.feature_selection import mutual_info_classif\n",
    "from sklearn.svm import SVC\n",
    "from sklearn.naive_bayes import GaussianNB\n",
    "from sklearn.linear_model import LogisticRegression\n",
    "from sklearn.tree import DecisionTreeClassifier\n",
    "from sklearn.neighbors import KNeighborsClassifier\n",
    "from sklearn.feature_selection import mutual_info_classif\n",
    "from sklearn.feature_selection import SelectKBest\n",
    "from sklearn.metrics import roc_auc_score,accuracy_score\n",
    "from sklearn.pipeline import Pipeline\n",
    "\n",
    "# for feature scaling\n",
    "from sklearn.preprocessing import StandardScaler\n",
    "\n",
    "\n",
    "\n",
    "\n",
    "# for feature engineering\n",
    "# from feature_engine import imputation as mdi\n",
    "# from feature_engine import discretisation as dsc\n",
    "# from feature_engine import encoding as ce"
   ]
  },
  {
   "cell_type": "code",
   "execution_count": null,
   "id": "4513c55e",
   "metadata": {},
   "outputs": [],
   "source": []
  },
  {
   "cell_type": "code",
   "execution_count": 2,
   "id": "55c3425b",
   "metadata": {},
   "outputs": [
    {
     "data": {
      "text/html": [
       "<div>\n",
       "<style scoped>\n",
       "    .dataframe tbody tr th:only-of-type {\n",
       "        vertical-align: middle;\n",
       "    }\n",
       "\n",
       "    .dataframe tbody tr th {\n",
       "        vertical-align: top;\n",
       "    }\n",
       "\n",
       "    .dataframe thead th {\n",
       "        text-align: right;\n",
       "    }\n",
       "</style>\n",
       "<table border=\"1\" class=\"dataframe\">\n",
       "  <thead>\n",
       "    <tr style=\"text-align: right;\">\n",
       "      <th></th>\n",
       "      <th>battery_power</th>\n",
       "      <th>blue</th>\n",
       "      <th>clock_speed</th>\n",
       "      <th>dual_sim</th>\n",
       "      <th>fc</th>\n",
       "      <th>four_g</th>\n",
       "      <th>int_memory</th>\n",
       "      <th>m_dep</th>\n",
       "      <th>mobile_wt</th>\n",
       "      <th>n_cores</th>\n",
       "      <th>...</th>\n",
       "      <th>px_height</th>\n",
       "      <th>px_width</th>\n",
       "      <th>ram</th>\n",
       "      <th>sc_h</th>\n",
       "      <th>sc_w</th>\n",
       "      <th>talk_time</th>\n",
       "      <th>three_g</th>\n",
       "      <th>touch_screen</th>\n",
       "      <th>wifi</th>\n",
       "      <th>price_range</th>\n",
       "    </tr>\n",
       "  </thead>\n",
       "  <tbody>\n",
       "    <tr>\n",
       "      <th>0</th>\n",
       "      <td>842</td>\n",
       "      <td>0</td>\n",
       "      <td>2.2</td>\n",
       "      <td>0</td>\n",
       "      <td>1</td>\n",
       "      <td>0</td>\n",
       "      <td>7</td>\n",
       "      <td>0.6</td>\n",
       "      <td>188</td>\n",
       "      <td>2</td>\n",
       "      <td>...</td>\n",
       "      <td>20</td>\n",
       "      <td>756</td>\n",
       "      <td>2549</td>\n",
       "      <td>9</td>\n",
       "      <td>7</td>\n",
       "      <td>19</td>\n",
       "      <td>0</td>\n",
       "      <td>0</td>\n",
       "      <td>1</td>\n",
       "      <td>1</td>\n",
       "    </tr>\n",
       "    <tr>\n",
       "      <th>1</th>\n",
       "      <td>1021</td>\n",
       "      <td>1</td>\n",
       "      <td>0.5</td>\n",
       "      <td>1</td>\n",
       "      <td>0</td>\n",
       "      <td>1</td>\n",
       "      <td>53</td>\n",
       "      <td>0.7</td>\n",
       "      <td>136</td>\n",
       "      <td>3</td>\n",
       "      <td>...</td>\n",
       "      <td>905</td>\n",
       "      <td>1988</td>\n",
       "      <td>2631</td>\n",
       "      <td>17</td>\n",
       "      <td>3</td>\n",
       "      <td>7</td>\n",
       "      <td>1</td>\n",
       "      <td>1</td>\n",
       "      <td>0</td>\n",
       "      <td>2</td>\n",
       "    </tr>\n",
       "    <tr>\n",
       "      <th>2</th>\n",
       "      <td>563</td>\n",
       "      <td>1</td>\n",
       "      <td>0.5</td>\n",
       "      <td>1</td>\n",
       "      <td>2</td>\n",
       "      <td>1</td>\n",
       "      <td>41</td>\n",
       "      <td>0.9</td>\n",
       "      <td>145</td>\n",
       "      <td>5</td>\n",
       "      <td>...</td>\n",
       "      <td>1263</td>\n",
       "      <td>1716</td>\n",
       "      <td>2603</td>\n",
       "      <td>11</td>\n",
       "      <td>2</td>\n",
       "      <td>9</td>\n",
       "      <td>1</td>\n",
       "      <td>1</td>\n",
       "      <td>0</td>\n",
       "      <td>2</td>\n",
       "    </tr>\n",
       "    <tr>\n",
       "      <th>3</th>\n",
       "      <td>615</td>\n",
       "      <td>1</td>\n",
       "      <td>2.5</td>\n",
       "      <td>0</td>\n",
       "      <td>0</td>\n",
       "      <td>0</td>\n",
       "      <td>10</td>\n",
       "      <td>0.8</td>\n",
       "      <td>131</td>\n",
       "      <td>6</td>\n",
       "      <td>...</td>\n",
       "      <td>1216</td>\n",
       "      <td>1786</td>\n",
       "      <td>2769</td>\n",
       "      <td>16</td>\n",
       "      <td>8</td>\n",
       "      <td>11</td>\n",
       "      <td>1</td>\n",
       "      <td>0</td>\n",
       "      <td>0</td>\n",
       "      <td>2</td>\n",
       "    </tr>\n",
       "    <tr>\n",
       "      <th>4</th>\n",
       "      <td>1821</td>\n",
       "      <td>1</td>\n",
       "      <td>1.2</td>\n",
       "      <td>0</td>\n",
       "      <td>13</td>\n",
       "      <td>1</td>\n",
       "      <td>44</td>\n",
       "      <td>0.6</td>\n",
       "      <td>141</td>\n",
       "      <td>2</td>\n",
       "      <td>...</td>\n",
       "      <td>1208</td>\n",
       "      <td>1212</td>\n",
       "      <td>1411</td>\n",
       "      <td>8</td>\n",
       "      <td>2</td>\n",
       "      <td>15</td>\n",
       "      <td>1</td>\n",
       "      <td>1</td>\n",
       "      <td>0</td>\n",
       "      <td>1</td>\n",
       "    </tr>\n",
       "    <tr>\n",
       "      <th>5</th>\n",
       "      <td>1859</td>\n",
       "      <td>0</td>\n",
       "      <td>0.5</td>\n",
       "      <td>1</td>\n",
       "      <td>3</td>\n",
       "      <td>0</td>\n",
       "      <td>22</td>\n",
       "      <td>0.7</td>\n",
       "      <td>164</td>\n",
       "      <td>1</td>\n",
       "      <td>...</td>\n",
       "      <td>1004</td>\n",
       "      <td>1654</td>\n",
       "      <td>1067</td>\n",
       "      <td>17</td>\n",
       "      <td>1</td>\n",
       "      <td>10</td>\n",
       "      <td>1</td>\n",
       "      <td>0</td>\n",
       "      <td>0</td>\n",
       "      <td>1</td>\n",
       "    </tr>\n",
       "    <tr>\n",
       "      <th>6</th>\n",
       "      <td>1821</td>\n",
       "      <td>0</td>\n",
       "      <td>1.7</td>\n",
       "      <td>0</td>\n",
       "      <td>4</td>\n",
       "      <td>1</td>\n",
       "      <td>10</td>\n",
       "      <td>0.8</td>\n",
       "      <td>139</td>\n",
       "      <td>8</td>\n",
       "      <td>...</td>\n",
       "      <td>381</td>\n",
       "      <td>1018</td>\n",
       "      <td>3220</td>\n",
       "      <td>13</td>\n",
       "      <td>8</td>\n",
       "      <td>18</td>\n",
       "      <td>1</td>\n",
       "      <td>0</td>\n",
       "      <td>1</td>\n",
       "      <td>3</td>\n",
       "    </tr>\n",
       "    <tr>\n",
       "      <th>7</th>\n",
       "      <td>1954</td>\n",
       "      <td>0</td>\n",
       "      <td>0.5</td>\n",
       "      <td>1</td>\n",
       "      <td>0</td>\n",
       "      <td>0</td>\n",
       "      <td>24</td>\n",
       "      <td>0.8</td>\n",
       "      <td>187</td>\n",
       "      <td>4</td>\n",
       "      <td>...</td>\n",
       "      <td>512</td>\n",
       "      <td>1149</td>\n",
       "      <td>700</td>\n",
       "      <td>16</td>\n",
       "      <td>3</td>\n",
       "      <td>5</td>\n",
       "      <td>1</td>\n",
       "      <td>1</td>\n",
       "      <td>1</td>\n",
       "      <td>0</td>\n",
       "    </tr>\n",
       "    <tr>\n",
       "      <th>8</th>\n",
       "      <td>1445</td>\n",
       "      <td>1</td>\n",
       "      <td>0.5</td>\n",
       "      <td>0</td>\n",
       "      <td>0</td>\n",
       "      <td>0</td>\n",
       "      <td>53</td>\n",
       "      <td>0.7</td>\n",
       "      <td>174</td>\n",
       "      <td>7</td>\n",
       "      <td>...</td>\n",
       "      <td>386</td>\n",
       "      <td>836</td>\n",
       "      <td>1099</td>\n",
       "      <td>17</td>\n",
       "      <td>1</td>\n",
       "      <td>20</td>\n",
       "      <td>1</td>\n",
       "      <td>0</td>\n",
       "      <td>0</td>\n",
       "      <td>0</td>\n",
       "    </tr>\n",
       "    <tr>\n",
       "      <th>9</th>\n",
       "      <td>509</td>\n",
       "      <td>1</td>\n",
       "      <td>0.6</td>\n",
       "      <td>1</td>\n",
       "      <td>2</td>\n",
       "      <td>1</td>\n",
       "      <td>9</td>\n",
       "      <td>0.1</td>\n",
       "      <td>93</td>\n",
       "      <td>5</td>\n",
       "      <td>...</td>\n",
       "      <td>1137</td>\n",
       "      <td>1224</td>\n",
       "      <td>513</td>\n",
       "      <td>19</td>\n",
       "      <td>10</td>\n",
       "      <td>12</td>\n",
       "      <td>1</td>\n",
       "      <td>0</td>\n",
       "      <td>0</td>\n",
       "      <td>0</td>\n",
       "    </tr>\n",
       "  </tbody>\n",
       "</table>\n",
       "<p>10 rows × 21 columns</p>\n",
       "</div>"
      ],
      "text/plain": [
       "   battery_power  blue  clock_speed  dual_sim  fc  four_g  int_memory  m_dep  \\\n",
       "0            842     0          2.2         0   1       0           7    0.6   \n",
       "1           1021     1          0.5         1   0       1          53    0.7   \n",
       "2            563     1          0.5         1   2       1          41    0.9   \n",
       "3            615     1          2.5         0   0       0          10    0.8   \n",
       "4           1821     1          1.2         0  13       1          44    0.6   \n",
       "5           1859     0          0.5         1   3       0          22    0.7   \n",
       "6           1821     0          1.7         0   4       1          10    0.8   \n",
       "7           1954     0          0.5         1   0       0          24    0.8   \n",
       "8           1445     1          0.5         0   0       0          53    0.7   \n",
       "9            509     1          0.6         1   2       1           9    0.1   \n",
       "\n",
       "   mobile_wt  n_cores  ...  px_height  px_width   ram  sc_h  sc_w  talk_time  \\\n",
       "0        188        2  ...         20       756  2549     9     7         19   \n",
       "1        136        3  ...        905      1988  2631    17     3          7   \n",
       "2        145        5  ...       1263      1716  2603    11     2          9   \n",
       "3        131        6  ...       1216      1786  2769    16     8         11   \n",
       "4        141        2  ...       1208      1212  1411     8     2         15   \n",
       "5        164        1  ...       1004      1654  1067    17     1         10   \n",
       "6        139        8  ...        381      1018  3220    13     8         18   \n",
       "7        187        4  ...        512      1149   700    16     3          5   \n",
       "8        174        7  ...        386       836  1099    17     1         20   \n",
       "9         93        5  ...       1137      1224   513    19    10         12   \n",
       "\n",
       "   three_g  touch_screen  wifi  price_range  \n",
       "0        0             0     1            1  \n",
       "1        1             1     0            2  \n",
       "2        1             1     0            2  \n",
       "3        1             0     0            2  \n",
       "4        1             1     0            1  \n",
       "5        1             0     0            1  \n",
       "6        1             0     1            3  \n",
       "7        1             1     1            0  \n",
       "8        1             0     0            0  \n",
       "9        1             0     0            0  \n",
       "\n",
       "[10 rows x 21 columns]"
      ]
     },
     "execution_count": 2,
     "metadata": {},
     "output_type": "execute_result"
    }
   ],
   "source": [
    "# loading the dataset \n",
    "\n",
    "df = pd.read_csv(\"C:\\\\Users\\\\oigbi\\\\OneDrive\\\\Desktop\\\\NewDataset\\PhonePrice.csv\")\n",
    "df.head(10)"
   ]
  },
  {
   "cell_type": "code",
   "execution_count": 3,
   "id": "6c5abad7",
   "metadata": {},
   "outputs": [
    {
     "data": {
      "text/html": [
       "<div>\n",
       "<style scoped>\n",
       "    .dataframe tbody tr th:only-of-type {\n",
       "        vertical-align: middle;\n",
       "    }\n",
       "\n",
       "    .dataframe tbody tr th {\n",
       "        vertical-align: top;\n",
       "    }\n",
       "\n",
       "    .dataframe thead th {\n",
       "        text-align: right;\n",
       "    }\n",
       "</style>\n",
       "<table border=\"1\" class=\"dataframe\">\n",
       "  <thead>\n",
       "    <tr style=\"text-align: right;\">\n",
       "      <th></th>\n",
       "      <th>battery_power</th>\n",
       "      <th>blue</th>\n",
       "      <th>clock_speed</th>\n",
       "      <th>dual_sim</th>\n",
       "      <th>fc</th>\n",
       "      <th>four_g</th>\n",
       "      <th>int_memory</th>\n",
       "      <th>m_dep</th>\n",
       "      <th>mobile_wt</th>\n",
       "      <th>n_cores</th>\n",
       "      <th>...</th>\n",
       "      <th>px_height</th>\n",
       "      <th>px_width</th>\n",
       "      <th>ram</th>\n",
       "      <th>sc_h</th>\n",
       "      <th>sc_w</th>\n",
       "      <th>talk_time</th>\n",
       "      <th>three_g</th>\n",
       "      <th>touch_screen</th>\n",
       "      <th>wifi</th>\n",
       "      <th>price_range</th>\n",
       "    </tr>\n",
       "  </thead>\n",
       "  <tbody>\n",
       "    <tr>\n",
       "      <th>1990</th>\n",
       "      <td>1617</td>\n",
       "      <td>1</td>\n",
       "      <td>2.4</td>\n",
       "      <td>0</td>\n",
       "      <td>8</td>\n",
       "      <td>1</td>\n",
       "      <td>36</td>\n",
       "      <td>0.8</td>\n",
       "      <td>85</td>\n",
       "      <td>1</td>\n",
       "      <td>...</td>\n",
       "      <td>743</td>\n",
       "      <td>1426</td>\n",
       "      <td>296</td>\n",
       "      <td>5</td>\n",
       "      <td>3</td>\n",
       "      <td>7</td>\n",
       "      <td>1</td>\n",
       "      <td>0</td>\n",
       "      <td>0</td>\n",
       "      <td>0</td>\n",
       "    </tr>\n",
       "    <tr>\n",
       "      <th>1991</th>\n",
       "      <td>1882</td>\n",
       "      <td>0</td>\n",
       "      <td>2.0</td>\n",
       "      <td>0</td>\n",
       "      <td>11</td>\n",
       "      <td>1</td>\n",
       "      <td>44</td>\n",
       "      <td>0.8</td>\n",
       "      <td>113</td>\n",
       "      <td>8</td>\n",
       "      <td>...</td>\n",
       "      <td>4</td>\n",
       "      <td>743</td>\n",
       "      <td>3579</td>\n",
       "      <td>19</td>\n",
       "      <td>8</td>\n",
       "      <td>20</td>\n",
       "      <td>1</td>\n",
       "      <td>1</td>\n",
       "      <td>0</td>\n",
       "      <td>3</td>\n",
       "    </tr>\n",
       "    <tr>\n",
       "      <th>1992</th>\n",
       "      <td>674</td>\n",
       "      <td>1</td>\n",
       "      <td>2.9</td>\n",
       "      <td>1</td>\n",
       "      <td>1</td>\n",
       "      <td>0</td>\n",
       "      <td>21</td>\n",
       "      <td>0.2</td>\n",
       "      <td>198</td>\n",
       "      <td>3</td>\n",
       "      <td>...</td>\n",
       "      <td>576</td>\n",
       "      <td>1809</td>\n",
       "      <td>1180</td>\n",
       "      <td>6</td>\n",
       "      <td>3</td>\n",
       "      <td>4</td>\n",
       "      <td>1</td>\n",
       "      <td>1</td>\n",
       "      <td>1</td>\n",
       "      <td>0</td>\n",
       "    </tr>\n",
       "    <tr>\n",
       "      <th>1993</th>\n",
       "      <td>1467</td>\n",
       "      <td>1</td>\n",
       "      <td>0.5</td>\n",
       "      <td>0</td>\n",
       "      <td>0</td>\n",
       "      <td>0</td>\n",
       "      <td>18</td>\n",
       "      <td>0.6</td>\n",
       "      <td>122</td>\n",
       "      <td>5</td>\n",
       "      <td>...</td>\n",
       "      <td>888</td>\n",
       "      <td>1099</td>\n",
       "      <td>3962</td>\n",
       "      <td>15</td>\n",
       "      <td>11</td>\n",
       "      <td>5</td>\n",
       "      <td>1</td>\n",
       "      <td>1</td>\n",
       "      <td>1</td>\n",
       "      <td>3</td>\n",
       "    </tr>\n",
       "    <tr>\n",
       "      <th>1994</th>\n",
       "      <td>858</td>\n",
       "      <td>0</td>\n",
       "      <td>2.2</td>\n",
       "      <td>0</td>\n",
       "      <td>1</td>\n",
       "      <td>0</td>\n",
       "      <td>50</td>\n",
       "      <td>0.1</td>\n",
       "      <td>84</td>\n",
       "      <td>1</td>\n",
       "      <td>...</td>\n",
       "      <td>528</td>\n",
       "      <td>1416</td>\n",
       "      <td>3978</td>\n",
       "      <td>17</td>\n",
       "      <td>16</td>\n",
       "      <td>3</td>\n",
       "      <td>1</td>\n",
       "      <td>1</td>\n",
       "      <td>0</td>\n",
       "      <td>3</td>\n",
       "    </tr>\n",
       "    <tr>\n",
       "      <th>1995</th>\n",
       "      <td>794</td>\n",
       "      <td>1</td>\n",
       "      <td>0.5</td>\n",
       "      <td>1</td>\n",
       "      <td>0</td>\n",
       "      <td>1</td>\n",
       "      <td>2</td>\n",
       "      <td>0.8</td>\n",
       "      <td>106</td>\n",
       "      <td>6</td>\n",
       "      <td>...</td>\n",
       "      <td>1222</td>\n",
       "      <td>1890</td>\n",
       "      <td>668</td>\n",
       "      <td>13</td>\n",
       "      <td>4</td>\n",
       "      <td>19</td>\n",
       "      <td>1</td>\n",
       "      <td>1</td>\n",
       "      <td>0</td>\n",
       "      <td>0</td>\n",
       "    </tr>\n",
       "    <tr>\n",
       "      <th>1996</th>\n",
       "      <td>1965</td>\n",
       "      <td>1</td>\n",
       "      <td>2.6</td>\n",
       "      <td>1</td>\n",
       "      <td>0</td>\n",
       "      <td>0</td>\n",
       "      <td>39</td>\n",
       "      <td>0.2</td>\n",
       "      <td>187</td>\n",
       "      <td>4</td>\n",
       "      <td>...</td>\n",
       "      <td>915</td>\n",
       "      <td>1965</td>\n",
       "      <td>2032</td>\n",
       "      <td>11</td>\n",
       "      <td>10</td>\n",
       "      <td>16</td>\n",
       "      <td>1</td>\n",
       "      <td>1</td>\n",
       "      <td>1</td>\n",
       "      <td>2</td>\n",
       "    </tr>\n",
       "    <tr>\n",
       "      <th>1997</th>\n",
       "      <td>1911</td>\n",
       "      <td>0</td>\n",
       "      <td>0.9</td>\n",
       "      <td>1</td>\n",
       "      <td>1</td>\n",
       "      <td>1</td>\n",
       "      <td>36</td>\n",
       "      <td>0.7</td>\n",
       "      <td>108</td>\n",
       "      <td>8</td>\n",
       "      <td>...</td>\n",
       "      <td>868</td>\n",
       "      <td>1632</td>\n",
       "      <td>3057</td>\n",
       "      <td>9</td>\n",
       "      <td>1</td>\n",
       "      <td>5</td>\n",
       "      <td>1</td>\n",
       "      <td>1</td>\n",
       "      <td>0</td>\n",
       "      <td>3</td>\n",
       "    </tr>\n",
       "    <tr>\n",
       "      <th>1998</th>\n",
       "      <td>1512</td>\n",
       "      <td>0</td>\n",
       "      <td>0.9</td>\n",
       "      <td>0</td>\n",
       "      <td>4</td>\n",
       "      <td>1</td>\n",
       "      <td>46</td>\n",
       "      <td>0.1</td>\n",
       "      <td>145</td>\n",
       "      <td>5</td>\n",
       "      <td>...</td>\n",
       "      <td>336</td>\n",
       "      <td>670</td>\n",
       "      <td>869</td>\n",
       "      <td>18</td>\n",
       "      <td>10</td>\n",
       "      <td>19</td>\n",
       "      <td>1</td>\n",
       "      <td>1</td>\n",
       "      <td>1</td>\n",
       "      <td>0</td>\n",
       "    </tr>\n",
       "    <tr>\n",
       "      <th>1999</th>\n",
       "      <td>510</td>\n",
       "      <td>1</td>\n",
       "      <td>2.0</td>\n",
       "      <td>1</td>\n",
       "      <td>5</td>\n",
       "      <td>1</td>\n",
       "      <td>45</td>\n",
       "      <td>0.9</td>\n",
       "      <td>168</td>\n",
       "      <td>6</td>\n",
       "      <td>...</td>\n",
       "      <td>483</td>\n",
       "      <td>754</td>\n",
       "      <td>3919</td>\n",
       "      <td>19</td>\n",
       "      <td>4</td>\n",
       "      <td>2</td>\n",
       "      <td>1</td>\n",
       "      <td>1</td>\n",
       "      <td>1</td>\n",
       "      <td>3</td>\n",
       "    </tr>\n",
       "  </tbody>\n",
       "</table>\n",
       "<p>10 rows × 21 columns</p>\n",
       "</div>"
      ],
      "text/plain": [
       "      battery_power  blue  clock_speed  dual_sim  fc  four_g  int_memory  \\\n",
       "1990           1617     1          2.4         0   8       1          36   \n",
       "1991           1882     0          2.0         0  11       1          44   \n",
       "1992            674     1          2.9         1   1       0          21   \n",
       "1993           1467     1          0.5         0   0       0          18   \n",
       "1994            858     0          2.2         0   1       0          50   \n",
       "1995            794     1          0.5         1   0       1           2   \n",
       "1996           1965     1          2.6         1   0       0          39   \n",
       "1997           1911     0          0.9         1   1       1          36   \n",
       "1998           1512     0          0.9         0   4       1          46   \n",
       "1999            510     1          2.0         1   5       1          45   \n",
       "\n",
       "      m_dep  mobile_wt  n_cores  ...  px_height  px_width   ram  sc_h  sc_w  \\\n",
       "1990    0.8         85        1  ...        743      1426   296     5     3   \n",
       "1991    0.8        113        8  ...          4       743  3579    19     8   \n",
       "1992    0.2        198        3  ...        576      1809  1180     6     3   \n",
       "1993    0.6        122        5  ...        888      1099  3962    15    11   \n",
       "1994    0.1         84        1  ...        528      1416  3978    17    16   \n",
       "1995    0.8        106        6  ...       1222      1890   668    13     4   \n",
       "1996    0.2        187        4  ...        915      1965  2032    11    10   \n",
       "1997    0.7        108        8  ...        868      1632  3057     9     1   \n",
       "1998    0.1        145        5  ...        336       670   869    18    10   \n",
       "1999    0.9        168        6  ...        483       754  3919    19     4   \n",
       "\n",
       "      talk_time  three_g  touch_screen  wifi  price_range  \n",
       "1990          7        1             0     0            0  \n",
       "1991         20        1             1     0            3  \n",
       "1992          4        1             1     1            0  \n",
       "1993          5        1             1     1            3  \n",
       "1994          3        1             1     0            3  \n",
       "1995         19        1             1     0            0  \n",
       "1996         16        1             1     1            2  \n",
       "1997          5        1             1     0            3  \n",
       "1998         19        1             1     1            0  \n",
       "1999          2        1             1     1            3  \n",
       "\n",
       "[10 rows x 21 columns]"
      ]
     },
     "execution_count": 3,
     "metadata": {},
     "output_type": "execute_result"
    }
   ],
   "source": [
    "df.tail(10)"
   ]
  },
  {
   "cell_type": "markdown",
   "id": "02022f7c",
   "metadata": {},
   "source": [
    "### PERFORMING EDA"
   ]
  },
  {
   "cell_type": "code",
   "execution_count": 4,
   "id": "6873720a",
   "metadata": {},
   "outputs": [
    {
     "data": {
      "text/plain": [
       "battery_power      int64\n",
       "blue               int64\n",
       "clock_speed      float64\n",
       "dual_sim           int64\n",
       "fc                 int64\n",
       "four_g             int64\n",
       "int_memory         int64\n",
       "m_dep            float64\n",
       "mobile_wt          int64\n",
       "n_cores            int64\n",
       "pc                 int64\n",
       "px_height          int64\n",
       "px_width           int64\n",
       "ram                int64\n",
       "sc_h               int64\n",
       "sc_w               int64\n",
       "talk_time          int64\n",
       "three_g            int64\n",
       "touch_screen       int64\n",
       "wifi               int64\n",
       "price_range        int64\n",
       "dtype: object"
      ]
     },
     "execution_count": 4,
     "metadata": {},
     "output_type": "execute_result"
    }
   ],
   "source": [
    "df.dtypes"
   ]
  },
  {
   "cell_type": "code",
   "execution_count": 5,
   "id": "c9aac909",
   "metadata": {},
   "outputs": [
    {
     "name": "stdout",
     "output_type": "stream",
     "text": [
      "(2000, 21)\n"
     ]
    }
   ],
   "source": [
    "print(df.shape)"
   ]
  },
  {
   "cell_type": "code",
   "execution_count": 6,
   "id": "1e157a64",
   "metadata": {},
   "outputs": [
    {
     "name": "stdout",
     "output_type": "stream",
     "text": [
      "<class 'pandas.core.frame.DataFrame'>\n",
      "RangeIndex: 2000 entries, 0 to 1999\n",
      "Data columns (total 21 columns):\n",
      " #   Column         Non-Null Count  Dtype  \n",
      "---  ------         --------------  -----  \n",
      " 0   battery_power  2000 non-null   int64  \n",
      " 1   blue           2000 non-null   int64  \n",
      " 2   clock_speed    2000 non-null   float64\n",
      " 3   dual_sim       2000 non-null   int64  \n",
      " 4   fc             2000 non-null   int64  \n",
      " 5   four_g         2000 non-null   int64  \n",
      " 6   int_memory     2000 non-null   int64  \n",
      " 7   m_dep          2000 non-null   float64\n",
      " 8   mobile_wt      2000 non-null   int64  \n",
      " 9   n_cores        2000 non-null   int64  \n",
      " 10  pc             2000 non-null   int64  \n",
      " 11  px_height      2000 non-null   int64  \n",
      " 12  px_width       2000 non-null   int64  \n",
      " 13  ram            2000 non-null   int64  \n",
      " 14  sc_h           2000 non-null   int64  \n",
      " 15  sc_w           2000 non-null   int64  \n",
      " 16  talk_time      2000 non-null   int64  \n",
      " 17  three_g        2000 non-null   int64  \n",
      " 18  touch_screen   2000 non-null   int64  \n",
      " 19  wifi           2000 non-null   int64  \n",
      " 20  price_range    2000 non-null   int64  \n",
      "dtypes: float64(2), int64(19)\n",
      "memory usage: 328.2 KB\n"
     ]
    }
   ],
   "source": [
    "# Knowning information about the dataset\n",
    "df.info()"
   ]
  },
  {
   "cell_type": "code",
   "execution_count": 7,
   "id": "6bf2e7f3",
   "metadata": {},
   "outputs": [
    {
     "data": {
      "text/html": [
       "<div>\n",
       "<style scoped>\n",
       "    .dataframe tbody tr th:only-of-type {\n",
       "        vertical-align: middle;\n",
       "    }\n",
       "\n",
       "    .dataframe tbody tr th {\n",
       "        vertical-align: top;\n",
       "    }\n",
       "\n",
       "    .dataframe thead th {\n",
       "        text-align: right;\n",
       "    }\n",
       "</style>\n",
       "<table border=\"1\" class=\"dataframe\">\n",
       "  <thead>\n",
       "    <tr style=\"text-align: right;\">\n",
       "      <th></th>\n",
       "      <th>battery_power</th>\n",
       "      <th>blue</th>\n",
       "      <th>clock_speed</th>\n",
       "      <th>dual_sim</th>\n",
       "      <th>fc</th>\n",
       "      <th>four_g</th>\n",
       "      <th>int_memory</th>\n",
       "      <th>m_dep</th>\n",
       "      <th>mobile_wt</th>\n",
       "      <th>n_cores</th>\n",
       "      <th>...</th>\n",
       "      <th>px_height</th>\n",
       "      <th>px_width</th>\n",
       "      <th>ram</th>\n",
       "      <th>sc_h</th>\n",
       "      <th>sc_w</th>\n",
       "      <th>talk_time</th>\n",
       "      <th>three_g</th>\n",
       "      <th>touch_screen</th>\n",
       "      <th>wifi</th>\n",
       "      <th>price_range</th>\n",
       "    </tr>\n",
       "  </thead>\n",
       "  <tbody>\n",
       "    <tr>\n",
       "      <th>count</th>\n",
       "      <td>2000.000000</td>\n",
       "      <td>2000.0000</td>\n",
       "      <td>2000.000000</td>\n",
       "      <td>2000.000000</td>\n",
       "      <td>2000.000000</td>\n",
       "      <td>2000.000000</td>\n",
       "      <td>2000.000000</td>\n",
       "      <td>2000.000000</td>\n",
       "      <td>2000.000000</td>\n",
       "      <td>2000.000000</td>\n",
       "      <td>...</td>\n",
       "      <td>2000.000000</td>\n",
       "      <td>2000.000000</td>\n",
       "      <td>2000.000000</td>\n",
       "      <td>2000.000000</td>\n",
       "      <td>2000.000000</td>\n",
       "      <td>2000.000000</td>\n",
       "      <td>2000.000000</td>\n",
       "      <td>2000.000000</td>\n",
       "      <td>2000.000000</td>\n",
       "      <td>2000.000000</td>\n",
       "    </tr>\n",
       "    <tr>\n",
       "      <th>mean</th>\n",
       "      <td>1238.518500</td>\n",
       "      <td>0.4950</td>\n",
       "      <td>1.522250</td>\n",
       "      <td>0.509500</td>\n",
       "      <td>4.309500</td>\n",
       "      <td>0.521500</td>\n",
       "      <td>32.046500</td>\n",
       "      <td>0.501750</td>\n",
       "      <td>140.249000</td>\n",
       "      <td>4.520500</td>\n",
       "      <td>...</td>\n",
       "      <td>645.108000</td>\n",
       "      <td>1251.515500</td>\n",
       "      <td>2124.213000</td>\n",
       "      <td>12.306500</td>\n",
       "      <td>5.767000</td>\n",
       "      <td>11.011000</td>\n",
       "      <td>0.761500</td>\n",
       "      <td>0.503000</td>\n",
       "      <td>0.507000</td>\n",
       "      <td>1.500000</td>\n",
       "    </tr>\n",
       "    <tr>\n",
       "      <th>std</th>\n",
       "      <td>439.418206</td>\n",
       "      <td>0.5001</td>\n",
       "      <td>0.816004</td>\n",
       "      <td>0.500035</td>\n",
       "      <td>4.341444</td>\n",
       "      <td>0.499662</td>\n",
       "      <td>18.145715</td>\n",
       "      <td>0.288416</td>\n",
       "      <td>35.399655</td>\n",
       "      <td>2.287837</td>\n",
       "      <td>...</td>\n",
       "      <td>443.780811</td>\n",
       "      <td>432.199447</td>\n",
       "      <td>1084.732044</td>\n",
       "      <td>4.213245</td>\n",
       "      <td>4.356398</td>\n",
       "      <td>5.463955</td>\n",
       "      <td>0.426273</td>\n",
       "      <td>0.500116</td>\n",
       "      <td>0.500076</td>\n",
       "      <td>1.118314</td>\n",
       "    </tr>\n",
       "    <tr>\n",
       "      <th>min</th>\n",
       "      <td>501.000000</td>\n",
       "      <td>0.0000</td>\n",
       "      <td>0.500000</td>\n",
       "      <td>0.000000</td>\n",
       "      <td>0.000000</td>\n",
       "      <td>0.000000</td>\n",
       "      <td>2.000000</td>\n",
       "      <td>0.100000</td>\n",
       "      <td>80.000000</td>\n",
       "      <td>1.000000</td>\n",
       "      <td>...</td>\n",
       "      <td>0.000000</td>\n",
       "      <td>500.000000</td>\n",
       "      <td>256.000000</td>\n",
       "      <td>5.000000</td>\n",
       "      <td>0.000000</td>\n",
       "      <td>2.000000</td>\n",
       "      <td>0.000000</td>\n",
       "      <td>0.000000</td>\n",
       "      <td>0.000000</td>\n",
       "      <td>0.000000</td>\n",
       "    </tr>\n",
       "    <tr>\n",
       "      <th>25%</th>\n",
       "      <td>851.750000</td>\n",
       "      <td>0.0000</td>\n",
       "      <td>0.700000</td>\n",
       "      <td>0.000000</td>\n",
       "      <td>1.000000</td>\n",
       "      <td>0.000000</td>\n",
       "      <td>16.000000</td>\n",
       "      <td>0.200000</td>\n",
       "      <td>109.000000</td>\n",
       "      <td>3.000000</td>\n",
       "      <td>...</td>\n",
       "      <td>282.750000</td>\n",
       "      <td>874.750000</td>\n",
       "      <td>1207.500000</td>\n",
       "      <td>9.000000</td>\n",
       "      <td>2.000000</td>\n",
       "      <td>6.000000</td>\n",
       "      <td>1.000000</td>\n",
       "      <td>0.000000</td>\n",
       "      <td>0.000000</td>\n",
       "      <td>0.750000</td>\n",
       "    </tr>\n",
       "    <tr>\n",
       "      <th>50%</th>\n",
       "      <td>1226.000000</td>\n",
       "      <td>0.0000</td>\n",
       "      <td>1.500000</td>\n",
       "      <td>1.000000</td>\n",
       "      <td>3.000000</td>\n",
       "      <td>1.000000</td>\n",
       "      <td>32.000000</td>\n",
       "      <td>0.500000</td>\n",
       "      <td>141.000000</td>\n",
       "      <td>4.000000</td>\n",
       "      <td>...</td>\n",
       "      <td>564.000000</td>\n",
       "      <td>1247.000000</td>\n",
       "      <td>2146.500000</td>\n",
       "      <td>12.000000</td>\n",
       "      <td>5.000000</td>\n",
       "      <td>11.000000</td>\n",
       "      <td>1.000000</td>\n",
       "      <td>1.000000</td>\n",
       "      <td>1.000000</td>\n",
       "      <td>1.500000</td>\n",
       "    </tr>\n",
       "    <tr>\n",
       "      <th>75%</th>\n",
       "      <td>1615.250000</td>\n",
       "      <td>1.0000</td>\n",
       "      <td>2.200000</td>\n",
       "      <td>1.000000</td>\n",
       "      <td>7.000000</td>\n",
       "      <td>1.000000</td>\n",
       "      <td>48.000000</td>\n",
       "      <td>0.800000</td>\n",
       "      <td>170.000000</td>\n",
       "      <td>7.000000</td>\n",
       "      <td>...</td>\n",
       "      <td>947.250000</td>\n",
       "      <td>1633.000000</td>\n",
       "      <td>3064.500000</td>\n",
       "      <td>16.000000</td>\n",
       "      <td>9.000000</td>\n",
       "      <td>16.000000</td>\n",
       "      <td>1.000000</td>\n",
       "      <td>1.000000</td>\n",
       "      <td>1.000000</td>\n",
       "      <td>2.250000</td>\n",
       "    </tr>\n",
       "    <tr>\n",
       "      <th>max</th>\n",
       "      <td>1998.000000</td>\n",
       "      <td>1.0000</td>\n",
       "      <td>3.000000</td>\n",
       "      <td>1.000000</td>\n",
       "      <td>19.000000</td>\n",
       "      <td>1.000000</td>\n",
       "      <td>64.000000</td>\n",
       "      <td>1.000000</td>\n",
       "      <td>200.000000</td>\n",
       "      <td>8.000000</td>\n",
       "      <td>...</td>\n",
       "      <td>1960.000000</td>\n",
       "      <td>1998.000000</td>\n",
       "      <td>3998.000000</td>\n",
       "      <td>19.000000</td>\n",
       "      <td>18.000000</td>\n",
       "      <td>20.000000</td>\n",
       "      <td>1.000000</td>\n",
       "      <td>1.000000</td>\n",
       "      <td>1.000000</td>\n",
       "      <td>3.000000</td>\n",
       "    </tr>\n",
       "  </tbody>\n",
       "</table>\n",
       "<p>8 rows × 21 columns</p>\n",
       "</div>"
      ],
      "text/plain": [
       "       battery_power       blue  clock_speed     dual_sim           fc  \\\n",
       "count    2000.000000  2000.0000  2000.000000  2000.000000  2000.000000   \n",
       "mean     1238.518500     0.4950     1.522250     0.509500     4.309500   \n",
       "std       439.418206     0.5001     0.816004     0.500035     4.341444   \n",
       "min       501.000000     0.0000     0.500000     0.000000     0.000000   \n",
       "25%       851.750000     0.0000     0.700000     0.000000     1.000000   \n",
       "50%      1226.000000     0.0000     1.500000     1.000000     3.000000   \n",
       "75%      1615.250000     1.0000     2.200000     1.000000     7.000000   \n",
       "max      1998.000000     1.0000     3.000000     1.000000    19.000000   \n",
       "\n",
       "            four_g   int_memory        m_dep    mobile_wt      n_cores  ...  \\\n",
       "count  2000.000000  2000.000000  2000.000000  2000.000000  2000.000000  ...   \n",
       "mean      0.521500    32.046500     0.501750   140.249000     4.520500  ...   \n",
       "std       0.499662    18.145715     0.288416    35.399655     2.287837  ...   \n",
       "min       0.000000     2.000000     0.100000    80.000000     1.000000  ...   \n",
       "25%       0.000000    16.000000     0.200000   109.000000     3.000000  ...   \n",
       "50%       1.000000    32.000000     0.500000   141.000000     4.000000  ...   \n",
       "75%       1.000000    48.000000     0.800000   170.000000     7.000000  ...   \n",
       "max       1.000000    64.000000     1.000000   200.000000     8.000000  ...   \n",
       "\n",
       "         px_height     px_width          ram         sc_h         sc_w  \\\n",
       "count  2000.000000  2000.000000  2000.000000  2000.000000  2000.000000   \n",
       "mean    645.108000  1251.515500  2124.213000    12.306500     5.767000   \n",
       "std     443.780811   432.199447  1084.732044     4.213245     4.356398   \n",
       "min       0.000000   500.000000   256.000000     5.000000     0.000000   \n",
       "25%     282.750000   874.750000  1207.500000     9.000000     2.000000   \n",
       "50%     564.000000  1247.000000  2146.500000    12.000000     5.000000   \n",
       "75%     947.250000  1633.000000  3064.500000    16.000000     9.000000   \n",
       "max    1960.000000  1998.000000  3998.000000    19.000000    18.000000   \n",
       "\n",
       "         talk_time      three_g  touch_screen         wifi  price_range  \n",
       "count  2000.000000  2000.000000   2000.000000  2000.000000  2000.000000  \n",
       "mean     11.011000     0.761500      0.503000     0.507000     1.500000  \n",
       "std       5.463955     0.426273      0.500116     0.500076     1.118314  \n",
       "min       2.000000     0.000000      0.000000     0.000000     0.000000  \n",
       "25%       6.000000     1.000000      0.000000     0.000000     0.750000  \n",
       "50%      11.000000     1.000000      1.000000     1.000000     1.500000  \n",
       "75%      16.000000     1.000000      1.000000     1.000000     2.250000  \n",
       "max      20.000000     1.000000      1.000000     1.000000     3.000000  \n",
       "\n",
       "[8 rows x 21 columns]"
      ]
     },
     "execution_count": 7,
     "metadata": {},
     "output_type": "execute_result"
    }
   ],
   "source": [
    "# Getting the statiistical description of the dataset\n",
    "df.describe()"
   ]
  },
  {
   "cell_type": "code",
   "execution_count": 8,
   "id": "95c61ca1",
   "metadata": {},
   "outputs": [
    {
     "data": {
      "text/plain": [
       "battery_power    0\n",
       "blue             0\n",
       "clock_speed      0\n",
       "dual_sim         0\n",
       "fc               0\n",
       "four_g           0\n",
       "int_memory       0\n",
       "m_dep            0\n",
       "mobile_wt        0\n",
       "n_cores          0\n",
       "pc               0\n",
       "px_height        0\n",
       "px_width         0\n",
       "ram              0\n",
       "sc_h             0\n",
       "sc_w             0\n",
       "talk_time        0\n",
       "three_g          0\n",
       "touch_screen     0\n",
       "wifi             0\n",
       "price_range      0\n",
       "dtype: int64"
      ]
     },
     "execution_count": 8,
     "metadata": {},
     "output_type": "execute_result"
    }
   ],
   "source": [
    "# Checking for any missing value in the dataset\n",
    "df.isnull().sum()"
   ]
  },
  {
   "cell_type": "code",
   "execution_count": 9,
   "id": "0215f81e",
   "metadata": {},
   "outputs": [
    {
     "data": {
      "text/plain": [
       "False"
      ]
     },
     "execution_count": 9,
     "metadata": {},
     "output_type": "execute_result"
    }
   ],
   "source": [
    "# Checking for any duplicates in the dataset\n",
    "df.duplicated().any()"
   ]
  },
  {
   "cell_type": "code",
   "execution_count": 10,
   "id": "2a8cd98c",
   "metadata": {},
   "outputs": [
    {
     "name": "stdout",
     "output_type": "stream",
     "text": [
      "battery_power [ 842 1021  563  615 1821 1859 1954 1445  509  769 1520 1815  803 1866\n",
      "  775  838  595 1131  682  772] \n",
      "\n",
      "blue [0 1] \n",
      "\n",
      "clock_speed [2.2 0.5 2.5 1.2 1.7 0.6 2.9 2.8 2.1 1.  0.9 1.1 2.6 1.4 1.6 2.7 1.3 2.3\n",
      " 2.  1.8] \n",
      "\n",
      "dual_sim [0 1] \n",
      "\n",
      "fc [ 1  0  2 13  3  4  5  7 11 12 16  6 15  8  9 10 18 17 14 19] \n",
      "\n",
      "four_g [0 1] \n",
      "\n",
      "int_memory [ 7 53 41 10 44 22 24  9 33 17 52 46 13 23 49 19 39 47 38  8] \n",
      "\n",
      "m_dep [0.6 0.7 0.9 0.8 0.1 0.5 1.  0.3 0.4 0.2] \n",
      "\n",
      "mobile_wt [188 136 145 131 141 164 139 187 174  93 182 177 159 198 185 196 121 101\n",
      "  81 156] \n",
      "\n",
      "n_cores [2 3 5 6 1 8 4 7] \n",
      "\n",
      "pc [ 2  6  9 14  7 10  0 15  1 18 17 11 16  4 20 13  3 19  8  5] \n",
      "\n",
      "px_height [  20  905 1263 1216 1208 1004  381  512  386 1137  248  151  607  344\n",
      "  356  862  984  441  658  902] \n",
      "\n",
      "px_width [ 756 1988 1716 1786 1212 1654 1018 1149  836 1224  874 1005  748 1440\n",
      "  563 1864 1850  810  878 1064] \n",
      "\n",
      "ram [2549 2631 2603 2769 1411 1067 3220  700 1099  513 3946 3826 1482 2680\n",
      "  373  568 3554 3752 1835 2337] \n",
      "\n",
      "sc_h [ 9 17 11 16  8 13 19  5 14 18  7 10 12  6 15] \n",
      "\n",
      "sc_w [ 7  3  2  8  1 10  9  0 15 13  5 11  4 12  6 17 14 16 18] \n",
      "\n",
      "talk_time [19  7  9 11 15 10 18  5 20 12 13  2  4  3 16  6 14 17  8] \n",
      "\n",
      "three_g [0 1] \n",
      "\n",
      "touch_screen [0 1] \n",
      "\n",
      "wifi [1 0] \n",
      "\n",
      "price_range [1 2 3 0] \n",
      "\n"
     ]
    }
   ],
   "source": [
    "# let's inspect the variable values\n",
    "\n",
    "for var in df.columns:\n",
    "    print(var, df[var].unique()[0:20], '\\n')"
   ]
  },
  {
   "cell_type": "code",
   "execution_count": null,
   "id": "1936e532",
   "metadata": {},
   "outputs": [],
   "source": []
  },
  {
   "cell_type": "markdown",
   "id": "0b4fb9b7",
   "metadata": {},
   "source": [
    "### Visualization on data"
   ]
  },
  {
   "cell_type": "code",
   "execution_count": 11,
   "id": "ef3cc442",
   "metadata": {},
   "outputs": [
    {
     "data": {
      "text/plain": [
       "1    500\n",
       "2    500\n",
       "3    500\n",
       "0    500\n",
       "Name: price_range, dtype: int64"
      ]
     },
     "execution_count": 11,
     "metadata": {},
     "output_type": "execute_result"
    }
   ],
   "source": [
    "# How many Unique value of price_range columns.\n",
    "df['price_range'].value_counts()"
   ]
  },
  {
   "cell_type": "code",
   "execution_count": 12,
   "id": "2c3d7e9d",
   "metadata": {},
   "outputs": [
    {
     "data": {
      "image/png": "[encoded data removed]",
      "text/plain": [
       "<Figure size 432x288 with 1 Axes>"
      ]
     },
     "metadata": {
      "needs_background": "light"
     },
     "output_type": "display_data"
    }
   ],
   "source": [
    "sns.countplot(x = \"price_range\", data=df, palette=\"hls\")\n",
    "plt.show()"
   ]
  },
  {
   "cell_type": "code",
   "execution_count": 13,
   "id": "7dbbbbf2",
   "metadata": {},
   "outputs": [
    {
     "data": {
      "image/png": "[encoded data removed]",
      "text/plain": [
       "<Figure size 1296x720 with 6 Axes>"
      ]
     },
     "metadata": {
      "needs_background": "light"
     },
     "output_type": "display_data"
    }
   ],
   "source": [
    "fig, axes = plt.subplots(2, 3, figsize=(18, 10))\n",
    "fig.suptitle('Price Range vs all numerical factor')\n",
    "sns.countplot(ax=axes[0, 0], data=df, y='three_g',palette='RdPu')\n",
    "sns.countplot(ax=axes[0, 1], data=df, y='touch_screen',palette='Set3')\n",
    "sns.countplot(ax=axes[0, 2], data=df, y='four_g',palette='RdPu')\n",
    "sns.countplot(ax=axes[1, 0], data=df, y='wifi',palette='Set3')\n",
    "sns.countplot(ax=axes[1,1],data = df, y ='fc' ,palette='RdPu')\n",
    "sns.countplot(ax=axes[1,2],data = df, y ='dual_sim',palette='RdPu' )\n",
    "plt.show()"
   ]
  },
  {
   "cell_type": "code",
   "execution_count": 14,
   "id": "27933b77",
   "metadata": {},
   "outputs": [
    {
     "data": {
      "image/png": "[encoded data removed]",
      "text/plain": [
       "<Figure size 1296x720 with 6 Axes>"
      ]
     },
     "metadata": {
      "needs_background": "light"
     },
     "output_type": "display_data"
    }
   ],
   "source": [
    "fig, axes = plt.subplots(3, 2, figsize=(18, 10))\n",
    "\n",
    "fig.suptitle('Price Range vs all numerical factor')\n",
    "\n",
    "sns.boxplot(ax=axes[0, 0], data=df, x='price_range', y='battery_power', linewidth=2.5, palette = \"Set2\")\n",
    "sns.boxplot(ax=axes[0, 1], data=df, x='price_range', y='ram', linewidth=2.5, palette = \"Set2\")\n",
    "sns.boxplot(ax=axes[1, 0], data=df, x='price_range', y='px_width', linewidth=2.5, palette = \"Set2\")\n",
    "sns.boxplot(ax=axes[1, 1], data=df, x='price_range', y='px_height', linewidth=2.5, palette = \"Set3\")\n",
    "sns.boxplot(ax=axes[2,0],  data=df,x='price_range',y='mobile_wt', linewidth=2.5, palette = \"Set2\")\n",
    "sns.boxplot(ax=axes[2,1],  data=df,x='price_range',y='int_memory', linewidth=2.5, palette = \"Set3\")\n",
    "plt.show()"
   ]
  },
  {
   "cell_type": "markdown",
   "id": "68d7b47e",
   "metadata": {},
   "source": [
    "### Feature Selection"
   ]
  },
  {
   "cell_type": "code",
   "execution_count": 15,
   "id": "a47b7579",
   "metadata": {},
   "outputs": [
    {
     "data": {
      "text/plain": [
       "((1400, 20), (600, 20))"
      ]
     },
     "execution_count": 15,
     "metadata": {},
     "output_type": "execute_result"
    }
   ],
   "source": [
    "# At this point, the dataset will be separated into train and test sets\n",
    "X_train, X_test, y_train, y_test = train_test_split(\n",
    "    df.drop(labels=['price_range'], axis=1),\n",
    "    df['price_range'],\n",
    "    test_size=0.3,\n",
    "    random_state=0)\n",
    "\n",
    "X_train.shape, X_test.shape"
   ]
  },
  {
   "cell_type": "markdown",
   "id": "ab835ff6",
   "metadata": {},
   "source": [
    "### Determine Mutual Information"
   ]
  },
  {
   "cell_type": "code",
   "execution_count": 16,
   "id": "6e0a3a9e",
   "metadata": {},
   "outputs": [
    {
     "data": {
      "text/plain": [
       "array([6.08979319e-02, 2.97824204e-02, 0.00000000e+00, 0.00000000e+00,\n",
       "       4.72424973e-04, 1.45724306e-02, 2.69787898e-02, 1.73285391e-03,\n",
       "       2.21447851e-04, 1.01201695e-02, 0.00000000e+00, 3.66501966e-02,\n",
       "       2.93068438e-02, 8.39232541e-01, 8.14135009e-03, 1.58205947e-02,\n",
       "       0.00000000e+00, 0.00000000e+00, 2.18857915e-03, 0.00000000e+00])"
      ]
     },
     "execution_count": 16,
     "metadata": {},
     "output_type": "execute_result"
    }
   ],
   "source": [
    "# calculate the mutual information between the variables and the target\n",
    "# the smaller the value of the mi, the less information we can infer from\n",
    "# the feature about the target\n",
    "\n",
    "mi = mutual_info_classif(X_train, y_train)\n",
    "mi"
   ]
  },
  {
   "cell_type": "code",
   "execution_count": 17,
   "id": "ade5fe94",
   "metadata": {},
   "outputs": [
    {
     "data": {
      "text/plain": [
       "Text(0, 0.5, 'Mutual Information')"
      ]
     },
     "execution_count": 17,
     "metadata": {},
     "output_type": "execute_result"
    },
    {
     "data": {
      "image/png": "[encoded data removed]",
      "text/plain": [
       "<Figure size 1440x432 with 1 Axes>"
      ]
     },
     "metadata": {
      "needs_background": "light"
     },
     "output_type": "display_data"
    }
   ],
   "source": [
    "# 1) let's capture the above array in a pandas series\n",
    "# 2) add the variable names in the index\n",
    "# 3) sort the features based on their mutual information value\n",
    "# 4) and make a bar plot\n",
    "\n",
    "mi = pd.Series(mi)\n",
    "mi.index = X_train.columns\n",
    "mi.sort_values(ascending=False).plot.bar(figsize=(20, 6))\n",
    "plt.ylabel('Mutual Information')"
   ]
  },
  {
   "cell_type": "code",
   "execution_count": 18,
   "id": "0386ba9c",
   "metadata": {},
   "outputs": [
    {
     "data": {
      "text/plain": [
       "SelectKBest(k=8,\n",
       "            score_func=<function mutual_info_classif at 0x000001D00C049670>)"
      ]
     },
     "execution_count": 18,
     "metadata": {},
     "output_type": "execute_result"
    }
   ],
   "source": [
    "# Here i will be selecting the top 8 features based on their mutual information values\n",
    "sel = SelectKBest(mutual_info_classif, k=8).fit(X_train, y_train)\n",
    "sel"
   ]
  },
  {
   "cell_type": "code",
   "execution_count": 19,
   "id": "c4b927ae",
   "metadata": {},
   "outputs": [
    {
     "data": {
      "text/plain": [
       "Index(['battery_power', 'dual_sim', 'int_memory', 'px_height', 'px_width',\n",
       "       'ram', 'touch_screen', 'wifi'],\n",
       "      dtype='object')"
      ]
     },
     "execution_count": 19,
     "metadata": {},
     "output_type": "execute_result"
    }
   ],
   "source": [
    "X_train.columns[sel.get_support()]"
   ]
  },
  {
   "cell_type": "code",
   "execution_count": 20,
   "id": "7180a639",
   "metadata": {},
   "outputs": [],
   "source": [
    "X_train  = sel.transform(X_train)\n",
    "X_test = sel.transform(X_test)"
   ]
  },
  {
   "cell_type": "code",
   "execution_count": 21,
   "id": "4b777f44",
   "metadata": {},
   "outputs": [
    {
     "name": "stdout",
     "output_type": "stream",
     "text": [
      "(1400, 8)\n",
      "(600, 8)\n"
     ]
    },
    {
     "data": {
      "text/plain": [
       "(None, None)"
      ]
     },
     "execution_count": 21,
     "metadata": {},
     "output_type": "execute_result"
    }
   ],
   "source": [
    "print(X_train.shape), print(X_test.shape)"
   ]
  },
  {
   "cell_type": "markdown",
   "id": "bd2c31de",
   "metadata": {},
   "source": [
    "### Feature Scaling"
   ]
  },
  {
   "cell_type": "code",
   "execution_count": 22,
   "id": "35d035af",
   "metadata": {},
   "outputs": [],
   "source": [
    "# standardisation: with the StandardScaler from sklearn\n",
    "\n",
    "# set up the scaler\n",
    "sc = StandardScaler()\n",
    "\n",
    "# fit the scaler to the train set, it will learn the parameters\n",
    "sc.fit(X_train)\n",
    "\n",
    "# transform train and test sets\n",
    "X_train = sc.transform(X_train)\n",
    "X_test = sc.transform(X_test)"
   ]
  },
  {
   "cell_type": "code",
   "execution_count": 23,
   "id": "19f7c6ba",
   "metadata": {},
   "outputs": [
    {
     "data": {
      "text/plain": [
       "array([1.23473357e+03, 5.14285714e-01, 3.18200000e+01, 6.59709286e+02,\n",
       "       1.26475143e+03, 2.10207429e+03, 4.93571429e-01, 5.09285714e-01])"
      ]
     },
     "execution_count": 23,
     "metadata": {},
     "output_type": "execute_result"
    }
   ],
   "source": [
    "# the scaler stores the mean of the features, learned from train set\n",
    "sc.mean_"
   ]
  },
  {
   "cell_type": "code",
   "execution_count": 24,
   "id": "d20675da",
   "metadata": {},
   "outputs": [
    {
     "data": {
      "text/plain": [
       "array([4.41982200e+02, 4.99795877e-01, 1.83667137e+01, 4.44692960e+02,\n",
       "       4.30737742e+02, 1.07307395e+03, 4.99958672e-01, 4.99913768e-01])"
      ]
     },
     "execution_count": 24,
     "metadata": {},
     "output_type": "execute_result"
    }
   ],
   "source": [
    "# the scaler stores the standard deviation deviation of the features,\n",
    "# learned from train set\n",
    "\n",
    "sc.scale_"
   ]
  },
  {
   "cell_type": "code",
   "execution_count": 25,
   "id": "359883d6",
   "metadata": {},
   "outputs": [
    {
     "data": {
      "text/plain": [
       "array([[-0.90893609,  0.97182532, -0.26243127, ..., -1.412833  ,\n",
       "        -0.98722446,  0.98159786],\n",
       "       [ 0.42822183,  0.97182532, -0.64355552, ...,  0.51806841,\n",
       "        -0.98722446, -1.01874713],\n",
       "       [-0.84784765,  0.97182532,  0.93538781, ...,  1.64660201,\n",
       "         1.01294087,  0.98159786],\n",
       "       ...,\n",
       "       [-0.10121125,  0.97182532,  0.44537091, ...,  1.40523933,\n",
       "        -0.98722446,  0.98159786],\n",
       "       [-0.09894872,  0.97182532, -1.02467977, ..., -1.00093222,\n",
       "         1.01294087,  0.98159786],\n",
       "       [-1.19627797, -1.02899151, -0.04464598, ...,  0.29534378,\n",
       "        -0.98722446,  0.98159786]])"
      ]
     },
     "execution_count": 25,
     "metadata": {},
     "output_type": "execute_result"
    }
   ],
   "source": [
    "X_train "
   ]
  },
  {
   "cell_type": "code",
   "execution_count": 26,
   "id": "3550da01",
   "metadata": {},
   "outputs": [
    {
     "data": {
      "text/plain": [
       "array([[ 0.49609787,  0.97182532,  0.11869298, ...,  1.22724601,\n",
       "         1.01294087, -1.01874713],\n",
       "       [-0.32293964,  0.97182532, -1.13357242, ..., -1.27211577,\n",
       "         1.01294087, -1.01874713],\n",
       "       [ 0.65447529,  0.97182532, -1.18801874, ...,  0.53670646,\n",
       "        -0.98722446,  0.98159786],\n",
       "       ...,\n",
       "       [ 1.1001946 ,  0.97182532,  0.06424666, ..., -1.30007283,\n",
       "         1.01294087,  0.98159786],\n",
       "       [-1.47683226, -1.02899151,  0.00980034, ...,  0.81534522,\n",
       "         1.01294087,  0.98159786],\n",
       "       [-1.51982042,  0.97182532,  0.49981723, ...,  0.46681379,\n",
       "         1.01294087, -1.01874713]])"
      ]
     },
     "execution_count": 26,
     "metadata": {},
     "output_type": "execute_result"
    }
   ],
   "source": [
    "X_test"
   ]
  },
  {
   "cell_type": "markdown",
   "id": "e289c4a2",
   "metadata": {},
   "source": [
    "### Logistic Regression"
   ]
  },
  {
   "cell_type": "code",
   "execution_count": 27,
   "id": "fab20bd0",
   "metadata": {},
   "outputs": [
    {
     "data": {
      "text/plain": [
       "LogisticRegression(random_state=0)"
      ]
     },
     "execution_count": 27,
     "metadata": {},
     "output_type": "execute_result"
    }
   ],
   "source": [
    "classifier1 = LogisticRegression(random_state=0)\n",
    "classifier1.fit(X_train, y_train)"
   ]
  },
  {
   "cell_type": "code",
   "execution_count": 28,
   "id": "59b75242",
   "metadata": {},
   "outputs": [
    {
     "name": "stdout",
     "output_type": "stream",
     "text": [
      "[3 0 2 2 2 0 0 3 3 1 1 3 0 2 3 0 3 2 2 1 0 0 3 1 2 2 3 1 3 1 1 0 2 0 1 3 0\n",
      " 0 3 3 2 1 3 3 1 3 0 1 3 1 1 3 0 3 0 2 2 2 0 3 3 1 3 2 1 2 3 2 2 2 3 2 1 0\n",
      " 1 3 2 2 1 2 3 3 3 0 0 0 2 1 2 3 1 2 2 1 0 3 3 3 0 3 1 1 3 1 3 2 2 3 2 3 3\n",
      " 0 0 1 3 3 0 0 1 0 0 3 2 2 1 1 1 1 0 2 1 3 3 3 3 3 3 2 0 1 1 2 1 3 0 3 0 0\n",
      " 2 0 1 1 1 1 3 0 0 3 1 3 2 1 3 1 2 3 3 2 1 0 3 1 2 3 3 0 2 2 3 1 2 1 0 1 2\n",
      " 1 2 0 3 3 1 1 0 2 3 0 1 3 2 0 3 3 2 1 2 3 3 3 0 0 0 2 3 3 0 0 1 3 2 3 3 3\n",
      " 0 0 2 2 3 1 0 2 0 0 0 3 2 1 2 2 1 1 0 2 3 3 0 0 1 3 3 2 3 0 3 1 1 0 2 3 3\n",
      " 2 0 0 1 2 3 2 2 3 1 1 0 3 3 2 1 3 2 2 2 1 0 2 2 1 0 0 2 2 2 2 0 1 3 0 1 2\n",
      " 3 0 2 0 1 1 3 0 0 2 3 1 2 0 2 0 3 0 3 3 2 3 1 2 2 1 1 1 0 1 0 3 1 0 3 0 0\n",
      " 1 3 0 3 1 2 0 1 3 0 2 2 1 2 1 1 0 2 0 0 3 1 2 3 2 2 0 3 2 1 1 3 2 3 3 3 0\n",
      " 2 0 3 0 1 1 2 3 1 3 1 2 0 1 2 3 0 0 1 3 0 3 0 2 2 1 1 0 2 0 0 1 3 0 3 3 0\n",
      " 2 1 3 2 1 3 2 0 2 2 2 0 0 3 0 1 1 1 3 2 3 2 0 3 0 0 1 3 0 0 3 3 2 2 3 0 0\n",
      " 1 2 1 2 0 3 3 0 2 3 0 2 2 1 0 2 2 1 3 2 2 0 2 0 3 3 2 1 0 3 1 2 0 0 1 3 0\n",
      " 3 0 0 1 2 0 1 3 0 2 2 1 2 0 3 0 2 3 2 2 2 3 2 3 3 0 0 2 0 3 1 1 0 0 3 2 0\n",
      " 2 0 3 1 1 0 2 1 0 3 1 3 0 0 2 0 3 1 0 0 2 3 0 0 0 1 2 3 1 3 2 2 0 1 1 2 3\n",
      " 1 2 1 2 3 2 2 1 3 0 3 0 0 1 1 2 0 1 0 1 3 3 1 3 0 2 0 0 1 3 1 2 1 3 2 1 1\n",
      " 2 2 0 1 3 0 2 2]\n"
     ]
    }
   ],
   "source": [
    "y_pred = classifier1.predict(X_test)\n",
    "print(y_pred)"
   ]
  },
  {
   "cell_type": "code",
   "execution_count": 29,
   "id": "9b6fe28f",
   "metadata": {},
   "outputs": [
    {
     "name": "stdout",
     "output_type": "stream",
     "text": [
      "Accuracy score: 0.96\n"
     ]
    }
   ],
   "source": [
    "acc1 = accuracy_score(y_test, y_pred)\n",
    "print(f\"Accuracy score: {acc1}\")"
   ]
  },
  {
   "cell_type": "markdown",
   "id": "970a8f2a",
   "metadata": {},
   "source": [
    "### SVM"
   ]
  },
  {
   "cell_type": "code",
   "execution_count": 30,
   "id": "35b17fd0",
   "metadata": {},
   "outputs": [
    {
     "data": {
      "text/plain": [
       "SVC(kernel='linear', random_state=0)"
      ]
     },
     "execution_count": 30,
     "metadata": {},
     "output_type": "execute_result"
    }
   ],
   "source": [
    "classifier2 = SVC(kernel = 'linear', random_state = 0)\n",
    "classifier2.fit(X_train, y_train)"
   ]
  },
  {
   "cell_type": "code",
   "execution_count": 34,
   "id": "f64c6be5",
   "metadata": {},
   "outputs": [
    {
     "data": {
      "text/plain": [
       "array([3, 0, 2, 2, 2, 0, 0, 3, 3, 1, 0, 3, 0, 2, 3, 0, 3, 2, 2, 1, 0, 0,\n",
       "       3, 1, 2, 2, 3, 1, 3, 1, 1, 0, 2, 0, 1, 3, 0, 0, 3, 3, 2, 1, 3, 3,\n",
       "       1, 3, 0, 1, 3, 1, 1, 3, 0, 3, 0, 2, 2, 2, 0, 3, 3, 1, 3, 2, 1, 2,\n",
       "       3, 2, 2, 2, 3, 2, 1, 0, 1, 3, 2, 2, 1, 2, 3, 3, 3, 0, 0, 0, 2, 1,\n",
       "       2, 3, 1, 2, 2, 1, 0, 3, 3, 3, 0, 3, 1, 1, 3, 1, 3, 2, 2, 3, 2, 3,\n",
       "       3, 0, 0, 1, 3, 3, 0, 0, 1, 0, 0, 3, 2, 2, 1, 1, 1, 1, 0, 2, 1, 3,\n",
       "       3, 3, 3, 3, 3, 2, 0, 1, 1, 2, 1, 3, 0, 3, 0, 0, 2, 0, 1, 1, 1, 1,\n",
       "       3, 0, 0, 3, 1, 3, 2, 1, 3, 1, 2, 3, 3, 2, 1, 0, 3, 1, 2, 3, 3, 0,\n",
       "       2, 2, 3, 0, 2, 1, 0, 1, 2, 2, 2, 0, 3, 3, 1, 1, 0, 2, 3, 0, 1, 3,\n",
       "       2, 0, 3, 3, 2, 1, 2, 3, 3, 3, 0, 0, 0, 2, 3, 3, 0, 0, 1, 3, 2, 3,\n",
       "       3, 3, 0, 0, 2, 2, 3, 1, 0, 2, 0, 0, 0, 3, 2, 1, 2, 2, 1, 1, 0, 2,\n",
       "       3, 3, 0, 0, 1, 3, 3, 2, 3, 0, 3, 1, 1, 0, 2, 3, 3, 2, 0, 0, 1, 2,\n",
       "       3, 2, 2, 3, 1, 1, 0, 3, 3, 2, 1, 3, 2, 2, 2, 1, 0, 2, 2, 2, 0, 0,\n",
       "       2, 2, 2, 2, 0, 1, 3, 0, 1, 2, 3, 0, 2, 0, 1, 1, 3, 0, 0, 2, 3, 1,\n",
       "       2, 0, 2, 0, 3, 0, 3, 3, 2, 3, 1, 2, 2, 1, 1, 1, 0, 1, 0, 3, 1, 0,\n",
       "       3, 0, 0, 0, 3, 0, 3, 1, 2, 0, 1, 3, 0, 2, 2, 1, 2, 1, 1, 0, 2, 0,\n",
       "       1, 3, 1, 2, 3, 2, 2, 0, 3, 2, 1, 1, 3, 2, 3, 3, 3, 0, 2, 0, 3, 0,\n",
       "       1, 1, 2, 3, 1, 3, 1, 2, 0, 1, 2, 3, 0, 0, 1, 3, 0, 3, 0, 2, 2, 1,\n",
       "       1, 0, 2, 0, 0, 1, 3, 0, 3, 3, 0, 2, 1, 3, 2, 1, 3, 2, 0, 3, 2, 2,\n",
       "       0, 0, 3, 0, 1, 1, 1, 3, 2, 3, 2, 0, 3, 0, 0, 1, 3, 0, 0, 3, 2, 2,\n",
       "       2, 3, 0, 0, 1, 2, 1, 2, 0, 3, 3, 0, 2, 3, 0, 3, 2, 0, 0, 2, 2, 1,\n",
       "       3, 2, 2, 0, 2, 0, 3, 3, 2, 1, 0, 3, 1, 2, 0, 0, 1, 3, 0, 3, 0, 0,\n",
       "       1, 2, 0, 1, 3, 0, 2, 2, 1, 2, 0, 3, 0, 2, 3, 2, 2, 2, 3, 2, 3, 3,\n",
       "       0, 0, 2, 0, 3, 1, 1, 0, 0, 3, 2, 0, 2, 0, 3, 1, 1, 0, 2, 1, 0, 3,\n",
       "       1, 3, 0, 0, 2, 0, 3, 1, 0, 0, 2, 3, 0, 0, 0, 1, 2, 3, 1, 3, 2, 2,\n",
       "       0, 2, 1, 2, 3, 1, 2, 1, 2, 3, 2, 2, 1, 3, 0, 3, 0, 0, 1, 1, 2, 0,\n",
       "       1, 0, 0, 3, 3, 1, 3, 0, 2, 0, 0, 1, 3, 1, 2, 1, 3, 2, 1, 1, 3, 2,\n",
       "       0, 1, 3, 0, 2, 2], dtype=int64)"
      ]
     },
     "execution_count": 34,
     "metadata": {},
     "output_type": "execute_result"
    }
   ],
   "source": [
    "y_pred2 = classifier2.predict(X_test)\n",
    "y_pred2"
   ]
  },
  {
   "cell_type": "code",
   "execution_count": 36,
   "id": "cde5dfd8",
   "metadata": {},
   "outputs": [
    {
     "name": "stdout",
     "output_type": "stream",
     "text": [
      "[[149   2   0   0]\n",
      " [  8 123   4   0]\n",
      " [  0   3 142   6]\n",
      " [  0   0   6 157]]\n"
     ]
    }
   ],
   "source": [
    "from sklearn.metrics import confusion_matrix, accuracy_score\n",
    "cm = confusion_matrix(y_test, y_pred2)\n",
    "print(cm)\n",
    "acc2 = accuracy_score(y_test, y_pred2)"
   ]
  },
  {
   "cell_type": "code",
   "execution_count": 37,
   "id": "1e6d1cfe",
   "metadata": {},
   "outputs": [
    {
     "name": "stdout",
     "output_type": "stream",
     "text": [
      "Accuracy score: 0.9516666666666667\n"
     ]
    }
   ],
   "source": [
    "print(f\"Accuracy score: {acc2}\")"
   ]
  },
  {
   "cell_type": "markdown",
   "id": "e38fa9aa",
   "metadata": {},
   "source": [
    "### KNN"
   ]
  },
  {
   "cell_type": "code",
   "execution_count": 38,
   "id": "dec7bd96",
   "metadata": {},
   "outputs": [
    {
     "data": {
      "text/plain": [
       "KNeighborsClassifier()"
      ]
     },
     "execution_count": 38,
     "metadata": {},
     "output_type": "execute_result"
    }
   ],
   "source": [
    "classifier3 = KNeighborsClassifier(n_neighbors = 5, metric = 'minkowski', p = 2)\n",
    "classifier3.fit(X_train, y_train)"
   ]
  },
  {
   "cell_type": "code",
   "execution_count": 40,
   "id": "59c6a00f",
   "metadata": {},
   "outputs": [
    {
     "data": {
      "text/plain": [
       "array([3, 0, 2, 2, 1, 0, 0, 2, 3, 1, 0, 2, 0, 1, 2, 0, 3, 2, 1, 1, 1, 0,\n",
       "       3, 1, 2, 2, 3, 1, 3, 1, 1, 0, 2, 1, 2, 3, 0, 0, 3, 3, 3, 0, 3, 2,\n",
       "       1, 3, 0, 1, 2, 2, 1, 2, 1, 3, 0, 3, 2, 2, 0, 3, 3, 1, 2, 1, 1, 1,\n",
       "       3, 2, 1, 2, 3, 2, 1, 0, 0, 3, 2, 1, 2, 1, 3, 3, 3, 0, 1, 0, 2, 0,\n",
       "       2, 3, 1, 2, 3, 0, 1, 2, 3, 3, 0, 3, 2, 0, 3, 1, 3, 1, 2, 3, 2, 3,\n",
       "       2, 0, 0, 2, 2, 2, 0, 0, 1, 0, 0, 3, 2, 2, 1, 1, 1, 0, 0, 1, 0, 3,\n",
       "       2, 3, 3, 3, 3, 1, 0, 2, 1, 1, 2, 3, 0, 2, 1, 0, 1, 0, 1, 1, 2, 1,\n",
       "       3, 0, 0, 3, 2, 3, 2, 1, 2, 1, 2, 3, 3, 2, 1, 0, 3, 1, 2, 3, 3, 0,\n",
       "       2, 1, 3, 0, 2, 1, 0, 2, 2, 2, 2, 0, 3, 3, 0, 1, 0, 2, 1, 0, 1, 2,\n",
       "       1, 0, 3, 3, 2, 1, 1, 3, 3, 3, 1, 0, 0, 2, 3, 3, 0, 0, 1, 3, 2, 3,\n",
       "       3, 3, 0, 0, 1, 3, 3, 1, 0, 1, 0, 0, 0, 3, 2, 1, 2, 2, 0, 0, 0, 2,\n",
       "       3, 3, 1, 0, 1, 3, 3, 1, 3, 0, 3, 1, 1, 0, 2, 3, 3, 1, 0, 0, 0, 2,\n",
       "       3, 2, 2, 3, 1, 2, 0, 3, 3, 2, 1, 3, 2, 2, 1, 1, 0, 2, 1, 2, 1, 0,\n",
       "       2, 2, 1, 2, 0, 1, 3, 0, 2, 2, 3, 0, 2, 0, 1, 1, 3, 0, 0, 2, 3, 1,\n",
       "       2, 0, 1, 1, 3, 0, 3, 3, 2, 2, 0, 2, 2, 0, 1, 1, 0, 1, 1, 3, 1, 0,\n",
       "       3, 1, 0, 1, 2, 0, 3, 1, 1, 0, 1, 3, 0, 1, 0, 1, 2, 1, 0, 0, 2, 0,\n",
       "       0, 3, 1, 2, 3, 1, 2, 0, 3, 3, 1, 2, 2, 2, 3, 3, 3, 0, 3, 0, 3, 0,\n",
       "       1, 0, 1, 2, 1, 1, 1, 1, 0, 1, 1, 2, 1, 0, 0, 3, 0, 2, 0, 1, 2, 1,\n",
       "       1, 0, 3, 1, 0, 1, 3, 0, 3, 2, 0, 2, 1, 3, 1, 2, 3, 3, 0, 2, 2, 2,\n",
       "       1, 0, 2, 0, 0, 1, 2, 3, 2, 2, 2, 0, 3, 0, 0, 1, 3, 0, 0, 3, 2, 2,\n",
       "       1, 3, 0, 0, 1, 2, 0, 2, 0, 3, 3, 0, 3, 3, 0, 1, 1, 0, 0, 2, 2, 1,\n",
       "       3, 1, 1, 0, 2, 0, 3, 3, 2, 1, 1, 3, 0, 2, 0, 1, 1, 2, 1, 3, 0, 0,\n",
       "       2, 2, 0, 1, 3, 0, 2, 2, 1, 2, 0, 3, 1, 2, 3, 2, 1, 2, 3, 0, 3, 3,\n",
       "       0, 0, 2, 0, 3, 1, 1, 1, 0, 3, 2, 0, 2, 1, 3, 1, 0, 0, 2, 1, 0, 3,\n",
       "       2, 3, 0, 1, 2, 0, 3, 1, 0, 0, 1, 3, 0, 0, 0, 0, 2, 3, 1, 2, 2, 3,\n",
       "       0, 2, 1, 1, 3, 0, 2, 1, 2, 3, 2, 1, 0, 3, 1, 3, 0, 0, 0, 0, 1, 0,\n",
       "       2, 1, 1, 2, 3, 0, 3, 1, 2, 0, 0, 1, 3, 1, 2, 1, 2, 2, 0, 1, 2, 1,\n",
       "       0, 1, 3, 1, 2, 2], dtype=int64)"
      ]
     },
     "execution_count": 40,
     "metadata": {},
     "output_type": "execute_result"
    }
   ],
   "source": [
    "y_pred3 = classifier3.predict(X_test)\n",
    "y_pred3"
   ]
  },
  {
   "cell_type": "code",
   "execution_count": 43,
   "id": "43afbf0d",
   "metadata": {},
   "outputs": [
    {
     "name": "stdout",
     "output_type": "stream",
     "text": [
      "Accurscy score: 0.7383333333333333\n"
     ]
    }
   ],
   "source": [
    "acc3 = accuracy_score(y_test, y_pred3)\n",
    "print(f\"Accurscy score: {acc3}\")"
   ]
  },
  {
   "cell_type": "markdown",
   "id": "312982e0",
   "metadata": {},
   "source": [
    "### Naive Bayes on the Training set"
   ]
  },
  {
   "cell_type": "code",
   "execution_count": 45,
   "id": "9b76fb1d",
   "metadata": {},
   "outputs": [
    {
     "data": {
      "text/plain": [
       "GaussianNB()"
      ]
     },
     "execution_count": 45,
     "metadata": {},
     "output_type": "execute_result"
    }
   ],
   "source": [
    "classifier4 = GaussianNB()\n",
    "classifier4.fit(X_train, y_train)"
   ]
  },
  {
   "cell_type": "code",
   "execution_count": 46,
   "id": "954bc9db",
   "metadata": {},
   "outputs": [
    {
     "data": {
      "text/plain": [
       "array([3, 0, 2, 1, 3, 0, 0, 3, 3, 1, 0, 3, 0, 2, 3, 0, 3, 2, 2, 1, 0, 0,\n",
       "       3, 1, 1, 2, 3, 1, 3, 1, 1, 0, 2, 0, 2, 3, 0, 0, 3, 3, 3, 1, 3, 3,\n",
       "       1, 3, 0, 2, 3, 1, 1, 3, 0, 2, 0, 3, 3, 1, 0, 3, 3, 1, 3, 2, 2, 2,\n",
       "       3, 3, 2, 2, 3, 2, 1, 0, 1, 3, 2, 2, 2, 1, 3, 2, 3, 0, 0, 0, 2, 1,\n",
       "       1, 3, 1, 2, 2, 1, 0, 3, 3, 3, 0, 3, 1, 2, 3, 1, 3, 1, 2, 3, 2, 3,\n",
       "       3, 0, 0, 2, 2, 3, 0, 1, 1, 0, 1, 3, 2, 2, 1, 2, 1, 1, 0, 2, 1, 3,\n",
       "       3, 3, 3, 3, 3, 1, 0, 1, 1, 2, 2, 3, 0, 3, 0, 0, 2, 0, 1, 1, 1, 1,\n",
       "       3, 0, 0, 3, 1, 3, 2, 1, 3, 1, 2, 3, 3, 2, 1, 0, 3, 2, 2, 3, 3, 0,\n",
       "       1, 2, 3, 0, 3, 1, 1, 2, 3, 1, 2, 0, 2, 3, 1, 1, 0, 2, 3, 0, 1, 3,\n",
       "       2, 0, 3, 3, 3, 1, 1, 3, 2, 3, 0, 0, 0, 2, 3, 3, 0, 0, 1, 3, 2, 3,\n",
       "       3, 3, 0, 0, 3, 2, 3, 2, 0, 2, 0, 0, 0, 3, 3, 0, 2, 2, 0, 1, 0, 3,\n",
       "       3, 3, 0, 0, 1, 3, 3, 1, 3, 0, 3, 1, 1, 0, 1, 3, 2, 2, 0, 0, 1, 3,\n",
       "       3, 2, 2, 3, 2, 1, 0, 3, 3, 2, 2, 3, 3, 2, 2, 2, 0, 2, 2, 1, 0, 0,\n",
       "       2, 2, 2, 2, 0, 2, 3, 0, 1, 2, 3, 0, 2, 0, 0, 1, 3, 0, 0, 2, 3, 1,\n",
       "       2, 1, 2, 0, 3, 0, 3, 3, 2, 3, 1, 1, 2, 1, 1, 1, 0, 1, 0, 3, 1, 1,\n",
       "       3, 1, 0, 1, 2, 0, 3, 2, 2, 0, 1, 3, 0, 2, 1, 1, 2, 2, 2, 0, 2, 0,\n",
       "       0, 3, 1, 3, 3, 1, 2, 0, 3, 2, 2, 1, 3, 2, 3, 3, 3, 0, 3, 0, 3, 0,\n",
       "       1, 1, 2, 3, 1, 3, 1, 1, 1, 1, 1, 3, 0, 0, 1, 3, 0, 3, 0, 2, 2, 1,\n",
       "       1, 0, 3, 0, 0, 0, 3, 0, 3, 3, 0, 2, 2, 3, 2, 1, 3, 2, 0, 2, 2, 2,\n",
       "       0, 0, 3, 0, 1, 1, 1, 3, 1, 3, 2, 0, 3, 0, 0, 1, 3, 0, 1, 3, 3, 2,\n",
       "       2, 3, 0, 0, 1, 2, 0, 2, 0, 3, 3, 0, 2, 3, 0, 2, 1, 1, 0, 2, 3, 1,\n",
       "       3, 2, 2, 0, 2, 0, 3, 3, 2, 1, 0, 3, 1, 2, 0, 0, 1, 3, 0, 3, 0, 0,\n",
       "       1, 2, 0, 1, 2, 0, 2, 1, 1, 2, 0, 3, 1, 1, 3, 2, 2, 2, 3, 2, 3, 3,\n",
       "       0, 0, 3, 0, 3, 2, 1, 0, 0, 3, 2, 0, 2, 1, 3, 1, 1, 0, 3, 0, 0, 3,\n",
       "       2, 3, 0, 0, 2, 0, 3, 2, 1, 0, 2, 3, 0, 0, 0, 0, 2, 2, 1, 3, 2, 3,\n",
       "       0, 1, 1, 2, 3, 1, 3, 1, 3, 3, 2, 1, 0, 3, 1, 3, 0, 0, 1, 0, 2, 0,\n",
       "       2, 1, 1, 3, 3, 1, 3, 1, 2, 0, 0, 1, 2, 1, 2, 1, 2, 2, 1, 1, 3, 1,\n",
       "       0, 2, 3, 0, 2, 2], dtype=int64)"
      ]
     },
     "execution_count": 46,
     "metadata": {},
     "output_type": "execute_result"
    }
   ],
   "source": [
    "y_pred4 = classifier4.predict(X_test)\n",
    "y_pred4"
   ]
  },
  {
   "cell_type": "code",
   "execution_count": 48,
   "id": "35290cc6",
   "metadata": {},
   "outputs": [
    {
     "name": "stdout",
     "output_type": "stream",
     "text": [
      "Accuracy score : 0.81\n"
     ]
    }
   ],
   "source": [
    "acc4 = accuracy_score(y_test, y_pred4)\n",
    "print(f\"Accuracy score : {acc4}\")"
   ]
  },
  {
   "cell_type": "markdown",
   "id": "3cbab078",
   "metadata": {},
   "source": [
    "### Decision Tree Classification on Train set"
   ]
  },
  {
   "cell_type": "code",
   "execution_count": 49,
   "id": "b0a7c84b",
   "metadata": {},
   "outputs": [
    {
     "data": {
      "text/plain": [
       "DecisionTreeClassifier(criterion='entropy', random_state=0)"
      ]
     },
     "execution_count": 49,
     "metadata": {},
     "output_type": "execute_result"
    }
   ],
   "source": [
    "classifier5 = DecisionTreeClassifier(criterion = 'entropy', random_state = 0)\n",
    "classifier5.fit(X_train, y_train)"
   ]
  },
  {
   "cell_type": "code",
   "execution_count": 50,
   "id": "60456bd6",
   "metadata": {},
   "outputs": [],
   "source": [
    "y_pred5 = classifier5.predict(X_test)"
   ]
  },
  {
   "cell_type": "code",
   "execution_count": 51,
   "id": "55c3ab4d",
   "metadata": {},
   "outputs": [
    {
     "name": "stdout",
     "output_type": "stream",
     "text": [
      "Accuracy score: 0.8683333333333333\n"
     ]
    }
   ],
   "source": [
    "acc5 = accuracy_score(y_test, y_pred5)\n",
    "print(f\"Accuracy score: {acc5}\")"
   ]
  },
  {
   "cell_type": "markdown",
   "id": "99c5a9cb",
   "metadata": {},
   "source": [
    "### Create visualization for all model with their Accuracy"
   ]
  },
  {
   "cell_type": "code",
   "execution_count": 52,
   "id": "ea1b937a",
   "metadata": {},
   "outputs": [],
   "source": [
    "mylist=[]\n",
    "mylist2=[]\n",
    "mylist.append(acc1)\n",
    "mylist2.append(\"Logistic Regression\")\n",
    "mylist.append(acc2)\n",
    "mylist2.append(\"SVM\")\n",
    "mylist.append(acc3)\n",
    "mylist2.append(\"KNN\")\n",
    "mylist.append(acc4)\n",
    "mylist2.append(\"Naive Bayes\")\n",
    "mylist.append(acc5)\n",
    "mylist2.append(\"DTR\")"
   ]
  },
  {
   "cell_type": "code",
   "execution_count": 53,
   "id": "bbfa24e3",
   "metadata": {
    "code_folding": []
   },
   "outputs": [
    {
     "data": {
      "image/png": "[encoded data removed]",
      "text/plain": [
       "<Figure size 576x432 with 1 Axes>"
      ]
     },
     "metadata": {},
     "output_type": "display_data"
    }
   ],
   "source": [
    "plt.rcParams['figure.figsize']=8,6\n",
    "sns.set_style(\"darkgrid\")\n",
    "ax = sns.barplot(x=mylist2, y=mylist, palette = \"rocket\", saturation =1.5)\n",
    "plt.xlabel(\"Classification Models\", fontsize = 20 )\n",
    "plt.ylabel(\"Accuracy\", fontsize = 20)\n",
    "plt.title(\"Accuracy of different Classification Models\", fontsize = 20)\n",
    "plt.xticks(fontsize = 11, horizontalalignment = 'center', rotation = 8)\n",
    "plt.yticks(fontsize = 13)\n",
    "for p in ax.patches:\n",
    "    width, height = p.get_width(), p.get_height()\n",
    "    x, y = p.get_xy() \n",
    "    ax.annotate(f'{height:.2%}', (x + width/2, y + height*1.02), ha='center', fontsize = 'x-large')\n",
    "plt.show()"
   ]
  },
  {
   "cell_type": "code",
   "execution_count": null,
   "id": "364505c3",
   "metadata": {},
   "outputs": [],
   "source": []
  },
  {
   "cell_type": "code",
   "execution_count": null,
   "id": "f510fb8c",
   "metadata": {},
   "outputs": [],
   "source": []
  },
  {
   "cell_type": "code",
   "execution_count": null,
   "id": "4d7aa9a2",
   "metadata": {},
   "outputs": [],
   "source": []
  }
 ],
 "metadata": {
  "kernelspec": {
   "display_name": "Python 3",
   "language": "python",
   "name": "python3"
  },
  "language_info": {
   "codemirror_mode": {
    "name": "ipython",
    "version": 3
   },
   "file_extension": ".py",
   "mimetype": "text/x-python",
   "name": "python",
   "nbconvert_exporter": "python",
   "pygments_lexer": "ipython3",
   "version": "3.8.8"
  },
  "toc": {
   "base_numbering": 1,
   "nav_menu": {},
   "number_sections": true,
   "sideBar": true,
   "skip_h1_title": false,
   "title_cell": "Table of Contents",
   "title_sidebar": "Contents",
   "toc_cell": false,
   "toc_position": {},
   "toc_section_display": true,
   "toc_window_display": false
  },
  "varInspector": {
   "cols": {
    "lenName": 16,
    "lenType": 16,
    "lenVar": 40
   },
   "kernels_config": {
    "python": {
     "delete_cmd_postfix": "",
     "delete_cmd_prefix": "del ",
     "library": "var_list.py",
     "varRefreshCmd": "print(var_dic_list())"
    },
    "r": {
     "delete_cmd_postfix": ") ",
     "delete_cmd_prefix": "rm(",
     "library": "var_list.r",
     "varRefreshCmd": "cat(var_dic_list()) "
    }
   },
   "types_to_exclude": [
    "module",
    "function",
    "builtin_function_or_method",
    "instance",
    "_Feature"
   ],
   "window_display": false
  }
 },
 "nbformat": 4,
 "nbformat_minor": 5
}
